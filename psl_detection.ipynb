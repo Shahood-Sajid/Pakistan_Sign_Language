{
 "cells": [
  {
   "cell_type": "code",
   "execution_count": null,
   "id": "43778939",
   "metadata": {},
   "outputs": [],
   "source": [
    "!git clone https://github.com/ultralytics/yolov5"
   ]
  },
  {
   "cell_type": "code",
   "execution_count": null,
   "id": "5c7c0398",
   "metadata": {},
   "outputs": [],
   "source": [
    "cd yolov5"
   ]
  },
  {
   "cell_type": "code",
   "execution_count": null,
   "id": "484ce6ed",
   "metadata": {},
   "outputs": [],
   "source": [
    "!pip3 install -r requirements.txt"
   ]
  },
  {
   "cell_type": "code",
   "execution_count": null,
   "id": "40131eed",
   "metadata": {
    "scrolled": true
   },
   "outputs": [],
   "source": [
    "!python train.py --data psl_data.yaml --cfg yolov5s.yaml --batch-size 30 --epochs 10"
   ]
  },
  {
   "cell_type": "code",
   "execution_count": null,
   "id": "eeca2483",
   "metadata": {},
   "outputs": [],
   "source": []
  }
 ],
 "metadata": {
  "kernelspec": {
   "display_name": "test",
   "language": "python",
   "name": "test"
  },
  "language_info": {
   "codemirror_mode": {
    "name": "ipython",
    "version": 3
   },
   "file_extension": ".py",
   "mimetype": "text/x-python",
   "name": "python",
   "nbconvert_exporter": "python",
   "pygments_lexer": "ipython3",
   "version": "3.9.13"
  }
 },
 "nbformat": 4,
 "nbformat_minor": 5
}
